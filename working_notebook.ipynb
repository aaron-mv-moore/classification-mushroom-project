{
 "cells": [
  {
   "cell_type": "markdown",
   "id": "b3eb093b",
   "metadata": {},
   "source": [
    "Plan:\n",
    "1. Create a blank repo/folder\n",
    "    - include blank final_report file\n",
    "    - include blank working file\n",
    "    - include basic agnostic .py files for:\n",
    "        - acquiring\n",
    "        - preparing\n",
    "        - exploring\n",
    "        - modeling\n",
    "        - evaluating\n",
    "2. "
   ]
  }
 ],
 "metadata": {
  "kernelspec": {
   "display_name": "Python 3 (ipykernel)",
   "language": "python",
   "name": "python3"
  },
  "language_info": {
   "codemirror_mode": {
    "name": "ipython",
    "version": 3
   },
   "file_extension": ".py",
   "mimetype": "text/x-python",
   "name": "python",
   "nbconvert_exporter": "python",
   "pygments_lexer": "ipython3",
   "version": "3.9.13"
  }
 },
 "nbformat": 4,
 "nbformat_minor": 5
}
